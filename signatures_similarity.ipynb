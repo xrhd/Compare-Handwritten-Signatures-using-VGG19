{
 "cells": [
  {
   "cell_type": "markdown",
   "metadata": {},
   "source": [
    "# Compare Handwritten Signatures using VGG19 and Cosine Similarity"
   ]
  },
  {
   "cell_type": "code",
   "execution_count": 1,
   "metadata": {},
   "outputs": [],
   "source": [
    "import os\n",
    "import matplotlib.pyplot as plt\n",
    "from progressbar import progressbar\n",
    "import warnings\n",
    "warnings.filterwarnings('ignore')\n",
    "\n",
    "def show(img, figsize=(5,5)):\n",
    "    plt.figure(figsize=figsize)\n",
    "    plt.imshow(img)\n",
    "    plt.show()"
   ]
  },
  {
   "cell_type": "code",
   "execution_count": 2,
   "metadata": {},
   "outputs": [
    {
     "name": "stderr",
     "output_type": "stream",
     "text": [
      "Using TensorFlow backend.\n"
     ]
    }
   ],
   "source": [
    "from keras.preprocessing import image\n",
    "from keras.applications.vgg19 import VGG19\n",
    "from keras.applications.vgg19 import preprocess_input\n",
    "\n",
    "import numpy as np\n",
    "import pandas as pd\n",
    "from scipy.spatial.distance import cosine"
   ]
  },
  {
   "cell_type": "code",
   "execution_count": 3,
   "metadata": {},
   "outputs": [
    {
     "name": "stdout",
     "output_type": "stream",
     "text": [
      "_________________________________________________________________\n",
      "Layer (type)                 Output Shape              Param #   \n",
      "=================================================================\n",
      "input_1 (InputLayer)         (None, None, None, 3)     0         \n",
      "_________________________________________________________________\n",
      "block1_conv1 (Conv2D)        (None, None, None, 64)    1792      \n",
      "_________________________________________________________________\n",
      "block1_conv2 (Conv2D)        (None, None, None, 64)    36928     \n",
      "_________________________________________________________________\n",
      "block1_pool (MaxPooling2D)   (None, None, None, 64)    0         \n",
      "_________________________________________________________________\n",
      "block2_conv1 (Conv2D)        (None, None, None, 128)   73856     \n",
      "_________________________________________________________________\n",
      "block2_conv2 (Conv2D)        (None, None, None, 128)   147584    \n",
      "_________________________________________________________________\n",
      "block2_pool (MaxPooling2D)   (None, None, None, 128)   0         \n",
      "_________________________________________________________________\n",
      "block3_conv1 (Conv2D)        (None, None, None, 256)   295168    \n",
      "_________________________________________________________________\n",
      "block3_conv2 (Conv2D)        (None, None, None, 256)   590080    \n",
      "_________________________________________________________________\n",
      "block3_conv3 (Conv2D)        (None, None, None, 256)   590080    \n",
      "_________________________________________________________________\n",
      "block3_conv4 (Conv2D)        (None, None, None, 256)   590080    \n",
      "_________________________________________________________________\n",
      "block3_pool (MaxPooling2D)   (None, None, None, 256)   0         \n",
      "_________________________________________________________________\n",
      "block4_conv1 (Conv2D)        (None, None, None, 512)   1180160   \n",
      "_________________________________________________________________\n",
      "block4_conv2 (Conv2D)        (None, None, None, 512)   2359808   \n",
      "_________________________________________________________________\n",
      "block4_conv3 (Conv2D)        (None, None, None, 512)   2359808   \n",
      "_________________________________________________________________\n",
      "block4_conv4 (Conv2D)        (None, None, None, 512)   2359808   \n",
      "_________________________________________________________________\n",
      "block4_pool (MaxPooling2D)   (None, None, None, 512)   0         \n",
      "_________________________________________________________________\n",
      "block5_conv1 (Conv2D)        (None, None, None, 512)   2359808   \n",
      "_________________________________________________________________\n",
      "block5_conv2 (Conv2D)        (None, None, None, 512)   2359808   \n",
      "_________________________________________________________________\n",
      "block5_conv3 (Conv2D)        (None, None, None, 512)   2359808   \n",
      "_________________________________________________________________\n",
      "block5_conv4 (Conv2D)        (None, None, None, 512)   2359808   \n",
      "_________________________________________________________________\n",
      "block5_pool (MaxPooling2D)   (None, None, None, 512)   0         \n",
      "=================================================================\n",
      "Total params: 20,024,384\n",
      "Trainable params: 20,024,384\n",
      "Non-trainable params: 0\n",
      "_________________________________________________________________\n"
     ]
    }
   ],
   "source": [
    "model = VGG19(weights='imagenet', include_top=False)\n",
    "model.summary()"
   ]
  },
  {
   "cell_type": "markdown",
   "metadata": {},
   "source": [
    "## Some sample prediction"
   ]
  },
  {
   "cell_type": "code",
   "execution_count": 4,
   "metadata": {},
   "outputs": [
    {
     "data": {
      "image/png": "[encoded data removed]",
      "text/plain": [
       "<Figure size 360x360 with 1 Axes>"
      ]
     },
     "metadata": {},
     "output_type": "display_data"
    },
    {
     "name": "stdout",
     "output_type": "stream",
     "text": [
      "(25088,)\n"
     ]
    }
   ],
   "source": [
    "img_path = 'handwritten-signatures/sample_Signature/genuine/NFI-00102001.png'\n",
    "img = image.load_img(img_path, target_size=(224, 224))\n",
    "img_data = image.img_to_array(img)\n",
    "img_data = np.expand_dims(img_data, axis=0)\n",
    "img_data = preprocess_input(img_data)\n",
    "\n",
    "vgg16_feature = model.predict(img_data)\n",
    "\n",
    "show(img)\n",
    "print(vgg16_feature.flatten().shape)"
   ]
  },
  {
   "cell_type": "markdown",
   "metadata": {},
   "source": [
    "## Predict for all images"
   ]
  },
  {
   "cell_type": "code",
   "execution_count": 5,
   "metadata": {},
   "outputs": [
    {
     "name": "stderr",
     "output_type": "stream",
     "text": [
      "100% (300 of 300) |######################| Elapsed Time: 0:00:08 Time:  0:00:08\n"
     ]
    },
    {
     "data": {
      "text/html": [
       "<div>\n",
       "<style scoped>\n",
       "    .dataframe tbody tr th:only-of-type {\n",
       "        vertical-align: middle;\n",
       "    }\n",
       "\n",
       "    .dataframe tbody tr th {\n",
       "        vertical-align: top;\n",
       "    }\n",
       "\n",
       "    .dataframe thead th {\n",
       "        text-align: right;\n",
       "    }\n",
       "</style>\n",
       "<table border=\"1\" class=\"dataframe\">\n",
       "  <thead>\n",
       "    <tr style=\"text-align: right;\">\n",
       "      <th></th>\n",
       "      <th>0</th>\n",
       "    </tr>\n",
       "  </thead>\n",
       "  <tbody>\n",
       "    <tr>\n",
       "      <th>NFI-02901029.PNG</th>\n",
       "      <td>[0.0, 0.0, 0.0, 0.0, 0.0, 0.0, 0.0, 0.0, 0.0, ...</td>\n",
       "    </tr>\n",
       "    <tr>\n",
       "      <th>NFI-00101030.PNG</th>\n",
       "      <td>[0.0, 0.0, 0.0, 0.0, 0.0, 0.0, 0.0, 0.0, 0.0, ...</td>\n",
       "    </tr>\n",
       "    <tr>\n",
       "      <th>NFI-01202021.png</th>\n",
       "      <td>[0.0, 0.0, 0.0, 0.0, 16.138361, 0.0, 0.0, 0.0,...</td>\n",
       "    </tr>\n",
       "    <tr>\n",
       "      <th>NFI-01702017.png</th>\n",
       "      <td>[0.0, 0.0, 0.0, 0.0, 0.0, 0.0, 0.0, 0.0, 0.0, ...</td>\n",
       "    </tr>\n",
       "    <tr>\n",
       "      <th>NFI-00403007.png</th>\n",
       "      <td>[0.0, 0.0, 0.0, 0.0, 0.0, 0.0, 0.0, 0.0, 0.0, ...</td>\n",
       "    </tr>\n",
       "  </tbody>\n",
       "</table>\n",
       "</div>"
      ],
      "text/plain": [
       "                                                                  0\n",
       "NFI-02901029.PNG  [0.0, 0.0, 0.0, 0.0, 0.0, 0.0, 0.0, 0.0, 0.0, ...\n",
       "NFI-00101030.PNG  [0.0, 0.0, 0.0, 0.0, 0.0, 0.0, 0.0, 0.0, 0.0, ...\n",
       "NFI-01202021.png  [0.0, 0.0, 0.0, 0.0, 16.138361, 0.0, 0.0, 0.0,...\n",
       "NFI-01702017.png  [0.0, 0.0, 0.0, 0.0, 0.0, 0.0, 0.0, 0.0, 0.0, ...\n",
       "NFI-00403007.png  [0.0, 0.0, 0.0, 0.0, 0.0, 0.0, 0.0, 0.0, 0.0, ..."
      ]
     },
     "execution_count": 5,
     "metadata": {},
     "output_type": "execute_result"
    }
   ],
   "source": [
    "# define path\n",
    "path = 'handwritten-signatures/sample_Signature/data'\n",
    "\n",
    "# define input filenames\n",
    "filenames = os.listdir(f'{path}/')\n",
    "\n",
    "sig = dict()\n",
    "for fname in progressbar(filenames):\n",
    "    try:\n",
    "        img = image.load_img(f'{path}/{fname}', target_size=(224, 224))\n",
    "        img_data = image.img_to_array(img)\n",
    "        img_data = np.expand_dims(img_data, axis=0)\n",
    "        sig[fname] = [np.array(model.predict(img_data)).flatten()]\n",
    "    except: \n",
    "        filenames.remove(fname)\n",
    "        continue\n",
    "        \n",
    "sig_df = pd.DataFrame(sig).T\n",
    "sig_df.head()"
   ]
  },
  {
   "cell_type": "markdown",
   "metadata": {},
   "source": [
    "## Min Sample"
   ]
  },
  {
   "cell_type": "code",
   "execution_count": 90,
   "metadata": {},
   "outputs": [
    {
     "data": {
      "image/png": "[encoded data removed]",
      "text/plain": [
       "<Figure size 1440x360 with 2 Axes>"
      ]
     },
     "metadata": {},
     "output_type": "display_data"
    }
   ],
   "source": [
    "sample = sig_df.sample(2)\n",
    "a,b = sample.index[0], sample.index[1]\n",
    "sim = 1.0 - cosine(sig_df.T[a][0], sig_df.T[b][0])\n",
    "\n",
    "a_author, b_author = int(a.strip('.png').strip('.PNG')[3:6]), int(b.strip('.png').strip('.PNG')[3:6])\n",
    "a_class, b_class = int(a.strip('.png').strip('.PNG')[-3:]), int(b.strip('.png').strip('.PNG')[-3:])\n",
    "\n",
    "a_type = 'Genuine' if a_author == a_class else 'Forged'\n",
    "b_type = 'Genuine' if b_author == b_class else 'Forged'\n",
    "\n",
    "plt.figure(figsize=(20,5))\n",
    "plt.suptitle(f'Similarity: {sim}')\n",
    "\n",
    "plt.subplot(1,2,1)\n",
    "plt.title(f\"{a_type} Class:{a_class}\")\n",
    "plt.imshow(image.load_img(f'{path}/{a}'))\n",
    "\n",
    "plt.subplot(1,2,2)\n",
    "plt.title(f\"{b_type} Class:{b_class}\")\n",
    "plt.imshow(image.load_img(f'{path}/{b}'))\n",
    "\n",
    "\n",
    "plt.show()"
   ]
  },
  {
   "cell_type": "markdown",
   "metadata": {},
   "source": [
    "## Find Optimall Treshhold"
   ]
  },
  {
   "cell_type": "code",
   "execution_count": 9,
   "metadata": {},
   "outputs": [
    {
     "data": {
      "text/plain": [
       "44850.0"
      ]
     },
     "execution_count": 9,
     "metadata": {},
     "output_type": "execute_result"
    }
   ],
   "source": [
    "from math import factorial as fat\n",
    "n = len(sig_df.index)\n",
    "nof_combination = lambda n,p: fat(n)/(fat(n-p)*fat(p))\n",
    "nof_combination(n,2)"
   ]
  },
  {
   "cell_type": "code",
   "execution_count": 10,
   "metadata": {},
   "outputs": [
    {
     "data": {
      "text/plain": [
       "44850"
      ]
     },
     "execution_count": 10,
     "metadata": {},
     "output_type": "execute_result"
    }
   ],
   "source": [
    "from itertools import combinations\n",
    "comb =  [i for i in combinations(sig_df.index, 2)]\n",
    "len(comb)"
   ]
  },
  {
   "cell_type": "code",
   "execution_count": 19,
   "metadata": {},
   "outputs": [
    {
     "name": "stderr",
     "output_type": "stream",
     "text": [
      "100% (44850 of 44850) |##################| Elapsed Time: 0:00:17 Time:  0:00:17\n"
     ]
    }
   ],
   "source": [
    "#dinamic programing for computing all similarities\n",
    "sims = dict()\n",
    "for a,b in progressbar(comb):\n",
    "    not_in_dict = False\n",
    "\n",
    "    if not(a in sims):\n",
    "        sims[a] = dict()\n",
    "    if not(b in sims):\n",
    "        sims[b] = dict()\n",
    "\n",
    "    sims[b][a] = dict()\n",
    "    sims[a][b] = dict()\n",
    "\n",
    "    sim = 1.0 - cosine(sig_df.T[a][0], sig_df.T[b][0])\n",
    "    sims[b][a]['dist'] = sim\n",
    "    sims[a][b]['dist'] = sim\n",
    "\n",
    "    label = int(a.strip('.png').strip('.PNG')[3:6]) == int(b.strip('.png').strip('.PNG')[3:6]) and int(a.strip('.png').strip('.PNG')[-3:]) == int(b.strip('.png').strip('.PNG')[-3:])\n",
    "    sims[b][a]['label'] = label\n",
    "    sims[a][b]['label'] = label"
   ]
  },
  {
   "cell_type": "code",
   "execution_count": 21,
   "metadata": {},
   "outputs": [
    {
     "name": "stderr",
     "output_type": "stream",
     "text": [
      "100% (100 of 100) |######################| Elapsed Time: 0:00:04 Time:  0:00:04\n"
     ]
    }
   ],
   "source": [
    "x = list()\n",
    "y = list()\n",
    "for thresh in progressbar(np.linspace(0,1, 100)):\n",
    "    x.append(thresh)\n",
    "    y.append(0)\n",
    "    for a,b in comb:\n",
    "        predicted = sims[a][b]['dist'] > thresh\n",
    "        y[-1] += 1 if predicted != sims[a][b]['label'] else 0\n",
    "\n",
    "optimal_threshhold = x[y.index(min(y))] # optimall threshhold == where loss is minimum \n",
    "\n",
    "x = np.array(x)\n",
    "y = 1 - np.array(y) / len(comb) # loss => accuracy\n",
    "\n",
    "minimum_loss = max(y) # minimaumloss represents the maxmum accuracy"
   ]
  },
  {
   "cell_type": "code",
   "execution_count": 22,
   "metadata": {},
   "outputs": [
    {
     "data": {
      "image/png": "[encoded data removed]",
      "text/plain": [
       "<Figure size 1440x720 with 1 Axes>"
      ]
     },
     "metadata": {},
     "output_type": "display_data"
    }
   ],
   "source": [
    "plt.figure(figsize=(20,10))\n",
    "plt.title(f'Optimal Threshhold: {optimal_threshhold}')\n",
    "plt.plot(x,y)\n",
    "plt.annotate(f'Accuracy: {minimum_loss}', xy=(optimal_threshhold, minimum_loss), xytext=(optimal_threshhold-0.02, 0.92))\n",
    "plt.plot(optimal_threshhold, minimum_loss, 'o', )\n",
    "plt.xlabel('Treshholds')\n",
    "plt.ylabel('Accuracy')\n",
    "plt.show()"
   ]
  },
  {
   "cell_type": "code",
   "execution_count": null,
   "metadata": {},
   "outputs": [],
   "source": []
  }
 ],
 "metadata": {
  "kernelspec": {
   "display_name": "Python 3",
   "language": "python",
   "name": "python3"
  },
  "language_info": {
   "codemirror_mode": {
    "name": "ipython",
    "version": 3
   },
   "file_extension": ".py",
   "mimetype": "text/x-python",
   "name": "python",
   "nbconvert_exporter": "python",
   "pygments_lexer": "ipython3",
   "version": "3.6.5"
  }
 },
 "nbformat": 4,
 "nbformat_minor": 2
}
