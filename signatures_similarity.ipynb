{
 "cells": [
  {
   "cell_type": "markdown",
   "metadata": {},
   "source": [
    "# Compare Handwritten Signatures using VGG19 and Cosine Similarity"
   ]
  },
  {
   "cell_type": "code",
   "execution_count": 1,
   "metadata": {},
   "outputs": [],
   "source": [
    "import os\n",
    "from pprint import pprint\n",
    "import matplotlib.pyplot as plt\n",
    "from progressbar import progressbar\n",
    "import warnings\n",
    "warnings.filterwarnings('ignore')\n",
    "\n",
    "def show(img, figsize=(5,5)):\n",
    "    plt.figure(figsize=figsize)\n",
    "    plt.imshow(img)\n",
    "    plt.show()"
   ]
  },
  {
   "cell_type": "code",
   "execution_count": 18,
   "metadata": {},
   "outputs": [],
   "source": [
    "import \n",
    "from keras.preprocessing import image\n",
    "from keras.applications.vgg19 import VGG19\n",
    "from keras.applications.vgg19 import preprocess_input\n",
    "\n",
    "import numpy as np\n",
    "import pandas as pd\n",
    "from scipy.spatial.distance import cosine\n",
    "from itertools import combinations, product"
   ]
  },
  {
   "cell_type": "code",
   "execution_count": 3,
   "metadata": {},
   "outputs": [
    {
     "name": "stdout",
     "output_type": "stream",
     "text": [
      "_________________________________________________________________\n",
      "Layer (type)                 Output Shape              Param #   \n",
      "=================================================================\n",
      "input_1 (InputLayer)         (None, None, None, 3)     0         \n",
      "_________________________________________________________________\n",
      "block1_conv1 (Conv2D)        (None, None, None, 64)    1792      \n",
      "_________________________________________________________________\n",
      "block1_conv2 (Conv2D)        (None, None, None, 64)    36928     \n",
      "_________________________________________________________________\n",
      "block1_pool (MaxPooling2D)   (None, None, None, 64)    0         \n",
      "_________________________________________________________________\n",
      "block2_conv1 (Conv2D)        (None, None, None, 128)   73856     \n",
      "_________________________________________________________________\n",
      "block2_conv2 (Conv2D)        (None, None, None, 128)   147584    \n",
      "_________________________________________________________________\n",
      "block2_pool (MaxPooling2D)   (None, None, None, 128)   0         \n",
      "_________________________________________________________________\n",
      "block3_conv1 (Conv2D)        (None, None, None, 256)   295168    \n",
      "_________________________________________________________________\n",
      "block3_conv2 (Conv2D)        (None, None, None, 256)   590080    \n",
      "_________________________________________________________________\n",
      "block3_conv3 (Conv2D)        (None, None, None, 256)   590080    \n",
      "_________________________________________________________________\n",
      "block3_conv4 (Conv2D)        (None, None, None, 256)   590080    \n",
      "_________________________________________________________________\n",
      "block3_pool (MaxPooling2D)   (None, None, None, 256)   0         \n",
      "_________________________________________________________________\n",
      "block4_conv1 (Conv2D)        (None, None, None, 512)   1180160   \n",
      "_________________________________________________________________\n",
      "block4_conv2 (Conv2D)        (None, None, None, 512)   2359808   \n",
      "_________________________________________________________________\n",
      "block4_conv3 (Conv2D)        (None, None, None, 512)   2359808   \n",
      "_________________________________________________________________\n",
      "block4_conv4 (Conv2D)        (None, None, None, 512)   2359808   \n",
      "_________________________________________________________________\n",
      "block4_pool (MaxPooling2D)   (None, None, None, 512)   0         \n",
      "_________________________________________________________________\n",
      "block5_conv1 (Conv2D)        (None, None, None, 512)   2359808   \n",
      "_________________________________________________________________\n",
      "block5_conv2 (Conv2D)        (None, None, None, 512)   2359808   \n",
      "_________________________________________________________________\n",
      "block5_conv3 (Conv2D)        (None, None, None, 512)   2359808   \n",
      "_________________________________________________________________\n",
      "block5_conv4 (Conv2D)        (None, None, None, 512)   2359808   \n",
      "_________________________________________________________________\n",
      "block5_pool (MaxPooling2D)   (None, None, None, 512)   0         \n",
      "=================================================================\n",
      "Total params: 20,024,384\n",
      "Trainable params: 20,024,384\n",
      "Non-trainable params: 0\n",
      "_________________________________________________________________\n"
     ]
    }
   ],
   "source": [
    "model = VGG19(weights='imagenet', include_top=False)\n",
    "model.summary()"
   ]
  },
  {
   "cell_type": "markdown",
   "metadata": {},
   "source": [
    "## Some sample prediction"
   ]
  },
  {
   "cell_type": "code",
   "execution_count": null,
   "metadata": {},
   "outputs": [],
   "source": [
    "tf.test.is_gpu_available()"
   ]
  },
  {
   "cell_type": "code",
   "execution_count": 4,
   "metadata": {},
   "outputs": [
    {
     "data": {
      "image/png": "[encoded data removed]",
      "text/plain": [
       "<Figure size 360x360 with 1 Axes>"
      ]
     },
     "metadata": {},
     "output_type": "display_data"
    },
    {
     "name": "stdout",
     "output_type": "stream",
     "text": [
      "(25088,)\n"
     ]
    }
   ],
   "source": [
    "img_path = 'handwritten-signatures/sample_Signature/genuine/NFI-00102001.png'\n",
    "img = image.load_img(img_path, target_size=(224, 224))\n",
    "img_data = image.img_to_array(img)\n",
    "img_data = np.expand_dims(img_data, axis=0)\n",
    "img_data = preprocess_input(img_data)\n",
    "\n",
    "vgg16_feature = model.predict(img_data)\n",
    "\n",
    "show(img)\n",
    "print(vgg16_feature.flatten().shape)"
   ]
  },
  {
   "cell_type": "markdown",
   "metadata": {},
   "source": [
    "## Predict for all images\n",
    "sotore all image features"
   ]
  },
  {
   "cell_type": "code",
   "execution_count": 5,
   "metadata": {},
   "outputs": [
    {
     "name": "stderr",
     "output_type": "stream",
     "text": [
      "100% (300 of 300) |######################| Elapsed Time: 0:00:06 Time:  0:00:06\n"
     ]
    },
    {
     "data": {
      "text/html": [
       "<div>\n",
       "<style scoped>\n",
       "    .dataframe tbody tr th:only-of-type {\n",
       "        vertical-align: middle;\n",
       "    }\n",
       "\n",
       "    .dataframe tbody tr th {\n",
       "        vertical-align: top;\n",
       "    }\n",
       "\n",
       "    .dataframe thead th {\n",
       "        text-align: right;\n",
       "    }\n",
       "</style>\n",
       "<table border=\"1\" class=\"dataframe\">\n",
       "  <thead>\n",
       "    <tr style=\"text-align: right;\">\n",
       "      <th></th>\n",
       "      <th>0</th>\n",
       "    </tr>\n",
       "  </thead>\n",
       "  <tbody>\n",
       "    <tr>\n",
       "      <th>NFI-02901029.PNG</th>\n",
       "      <td>[0.0, 0.0, 0.0, 0.0, 0.0, 0.0, 0.0, 0.0, 0.0, ...</td>\n",
       "    </tr>\n",
       "    <tr>\n",
       "      <th>NFI-00101030.PNG</th>\n",
       "      <td>[0.0, 0.0, 0.0, 0.0, 0.0, 0.0, 0.0, 0.0, 0.0, ...</td>\n",
       "    </tr>\n",
       "    <tr>\n",
       "      <th>NFI-01202021.png</th>\n",
       "      <td>[0.0, 0.0, 0.0, 0.0, 16.138361, 0.0, 0.0, 0.0,...</td>\n",
       "    </tr>\n",
       "    <tr>\n",
       "      <th>NFI-01702017.png</th>\n",
       "      <td>[0.0, 0.0, 0.0, 0.0, 0.0, 0.0, 0.0, 0.0, 0.0, ...</td>\n",
       "    </tr>\n",
       "    <tr>\n",
       "      <th>NFI-00403007.png</th>\n",
       "      <td>[0.0, 0.0, 0.0, 0.0, 0.0, 0.0, 0.0, 0.0, 0.0, ...</td>\n",
       "    </tr>\n",
       "  </tbody>\n",
       "</table>\n",
       "</div>"
      ],
      "text/plain": [
       "                                                                  0\n",
       "NFI-02901029.PNG  [0.0, 0.0, 0.0, 0.0, 0.0, 0.0, 0.0, 0.0, 0.0, ...\n",
       "NFI-00101030.PNG  [0.0, 0.0, 0.0, 0.0, 0.0, 0.0, 0.0, 0.0, 0.0, ...\n",
       "NFI-01202021.png  [0.0, 0.0, 0.0, 0.0, 16.138361, 0.0, 0.0, 0.0,...\n",
       "NFI-01702017.png  [0.0, 0.0, 0.0, 0.0, 0.0, 0.0, 0.0, 0.0, 0.0, ...\n",
       "NFI-00403007.png  [0.0, 0.0, 0.0, 0.0, 0.0, 0.0, 0.0, 0.0, 0.0, ..."
      ]
     },
     "execution_count": 5,
     "metadata": {},
     "output_type": "execute_result"
    }
   ],
   "source": [
    "# define path\n",
    "path = 'handwritten-signatures/sample_Signature/data'\n",
    "\n",
    "# define input filenames\n",
    "filenames = os.listdir(f'{path}/')\n",
    "\n",
    "sig = dict()\n",
    "for fname in progressbar(filenames):\n",
    "    try:\n",
    "        img = image.load_img(f'{path}/{fname}', target_size=(224, 224))\n",
    "        img_data = image.img_to_array(img)\n",
    "        img_data = np.expand_dims(img_data, axis=0)\n",
    "        sig[fname] = [np.array(model.predict(img_data)).flatten()]\n",
    "    except: \n",
    "        filenames.remove(fname)\n",
    "        continue\n",
    "        \n",
    "sig_df = pd.DataFrame(sig).T\n",
    "sig_df.head()"
   ]
  },
  {
   "cell_type": "markdown",
   "metadata": {},
   "source": [
    "## Min Sample\n",
    "run this cell to generate some sample"
   ]
  },
  {
   "cell_type": "code",
   "execution_count": 6,
   "metadata": {},
   "outputs": [],
   "source": [
    "''' predefined sample '''\n",
    "a  = 'NFI-00101001.png'\n",
    "b  = 'NFI-00102001.png'"
   ]
  },
  {
   "cell_type": "code",
   "execution_count": 7,
   "metadata": {},
   "outputs": [
    {
     "data": {
      "image/png": "[encoded data removed]",
      "text/plain": [
       "<Figure size 1440x360 with 2 Axes>"
      ]
     },
     "metadata": {},
     "output_type": "display_data"
    }
   ],
   "source": [
    "''' random sample '''\n",
    "sample = sig_df.sample(2)\n",
    "a,b = sample.index[0], sample.index[1]\n",
    "\n",
    "'''Comparing'''\n",
    "sim = np.around(1.0 - cosine(sig_df.T[a][0], sig_df.T[b][0]), 5)\n",
    "a_author, b_author = int(a.strip('.png').strip('.PNG')[3:6]), int(b.strip('.png').strip('.PNG')[3:6])\n",
    "a_class, b_class = int(a.strip('.png').strip('.PNG')[-3:]), int(b.strip('.png').strip('.PNG')[-3:])\n",
    "a_type = 'Genuine' if a_author == a_class else 'Forged'\n",
    "b_type = 'Genuine' if b_author == b_class else 'Forged'\n",
    "\n",
    "'''Ploting'''\n",
    "plt.figure(figsize=(20,5))\n",
    "plt.suptitle(f'Cosine Similarity: {sim}')\n",
    "plt.subplot(1,2,1)\n",
    "plt.title(f\"{a_type} Class:{a_class}\")\n",
    "plt.imshow(image.load_img(f'{path}/{a}'))\n",
    "plt.subplot(1,2,2)\n",
    "plt.title(f\"{b_type} Class:{b_class}\")\n",
    "plt.imshow(image.load_img(f'{path}/{b}'))\n",
    "plt.show()"
   ]
  },
  {
   "cell_type": "markdown",
   "metadata": {},
   "source": [
    "## Compute the distances for all combinations"
   ]
  },
  {
   "cell_type": "code",
   "execution_count": 8,
   "metadata": {},
   "outputs": [],
   "source": [
    "from math import factorial as fat\n",
    "n = len(sig_df.index)\n",
    "nof_combination = lambda n,p: fat(n)/(fat(n-p)*fat(p))"
   ]
  },
  {
   "cell_type": "code",
   "execution_count": 9,
   "metadata": {},
   "outputs": [
    {
     "name": "stdout",
     "output_type": "stream",
     "text": [
      "Clmulated number of combunations: 44850.0\n",
      "Actually number of combunations:  44850\n"
     ]
    }
   ],
   "source": [
    "comb =  [i for i in combinations(sig_df.index, 2)]\n",
    "print(f'Clmulated number of combunations: {nof_combination(n,2)}')\n",
    "print(f'Actually number of combunations:  {len(comb)}')"
   ]
  },
  {
   "cell_type": "code",
   "execution_count": 10,
   "metadata": {},
   "outputs": [
    {
     "name": "stderr",
     "output_type": "stream",
     "text": [
      "100% (44850 of 44850) |##################| Elapsed Time: 0:00:18 Time:  0:00:18\n"
     ]
    }
   ],
   "source": [
    "#dinamic programing for computing all similarities\n",
    "sims = dict()\n",
    "for a,b in progressbar(comb):\n",
    "    not_in_dict = False\n",
    "\n",
    "    if not(a in sims):\n",
    "        sims[a] = dict()\n",
    "    if not(b in sims):\n",
    "        sims[b] = dict()\n",
    "\n",
    "    sims[b][a] = dict()\n",
    "    sims[a][b] = dict()\n",
    "\n",
    "    sim = 1.0 - cosine(sig_df.T[a][0], sig_df.T[b][0])\n",
    "    sims[b][a]['dist'] = sim\n",
    "    sims[a][b]['dist'] = sim\n",
    "\n",
    "    label = int(a.strip('.png').strip('.PNG')[3:6]) == int(b.strip('.png').strip('.PNG')[3:6]) and int(a.strip('.png').strip('.PNG')[-3:]) == int(b.strip('.png').strip('.PNG')[-3:])\n",
    "    sims[b][a]['label'] = label\n",
    "    sims[a][b]['label'] = label"
   ]
  },
  {
   "cell_type": "markdown",
   "metadata": {},
   "source": [
    "## Find Optimal Treshhold"
   ]
  },
  {
   "cell_type": "code",
   "execution_count": 11,
   "metadata": {},
   "outputs": [
    {
     "name": "stdout",
     "output_type": "stream",
     "text": [
      "Signature Dict size: 30\n",
      "For each class store the forged and the genuine ones\n",
      "Example for colass 1\n",
      "{'Forged': {'NFI-00301001.png',\n",
      "            'NFI-00302001.png',\n",
      "            'NFI-00303001.png',\n",
      "            'NFI-00304001.png',\n",
      "            'NFI-00305001.png'},\n",
      " 'Genuine': {'NFI-00101001.png',\n",
      "             'NFI-00102001.png',\n",
      "             'NFI-00103001.png',\n",
      "             'NFI-00104001.png',\n",
      "             'NFI-00105001.png'}}\n"
     ]
    }
   ],
   "source": [
    "'''Dict with all signature classes'''\n",
    "signs = {int(sig_class.strip('.png').strip('.PNG')[-3:]):{'Genuine':set(), 'Forged':set()}for sig_class in sig_df.index}\n",
    "\n",
    "for file_name in sig_df.index:\n",
    "    sig_class = int(file_name.strip('.png').strip('.PNG')[-3:])\n",
    "    if sig_class == int(file_name.strip('.png').strip('.PNG')[3:6]): \n",
    "        signs[sig_class]['Genuine'].add(file_name)\n",
    "    else:\n",
    "        signs[sig_class]['Forged'].add(file_name)\n",
    "        \n",
    "print(f'Signature Dict size: {len(signs)}')\n",
    "print('For each class store the forged and the genuine ones')\n",
    "print('Example for colass 1')\n",
    "pprint(signs[1])"
   ]
  },
  {
   "cell_type": "code",
   "execution_count": 12,
   "metadata": {},
   "outputs": [
    {
     "name": "stderr",
     "output_type": "stream",
     "text": [
      "100% (100 of 100) |######################| Elapsed Time: 0:00:00 Time:  0:00:00\n"
     ]
    }
   ],
   "source": [
    "threshs = list()\n",
    "loss = list()\n",
    "\n",
    "'''explore some possible treshholds'''\n",
    "for thresh in progressbar(np.linspace(0,1, 100)):\n",
    "    threshs.append(thresh)\n",
    "    loss.append(0)\n",
    "    gen = 0\n",
    "    fgd = 0\n",
    "    for sign_class in signs:\n",
    "        \n",
    "        genuine = list(signs[sign_class]['Genuine'])\n",
    "        forged  = list(signs[sign_class]['Forged'])\n",
    "    \n",
    "        '''Case ware genuine signatures is comapred with forgend'''\n",
    "        for a, b in product(genuine,forged):\n",
    "            predicted = sims[a][b]['dist'] > thresh\n",
    "            loss[-1] += 1 if predicted == True else 0\n",
    "            fgd += 1\n",
    "            \n",
    "        '''Case ware genuine signatures is comapred with genuine'''\n",
    "        for a, b in combinations(genuine,2):\n",
    "            predicted = sims[a][b]['dist'] > thresh\n",
    "            loss[-1] += 1 if predicted == False else 0\n",
    "            gen += 1\n",
    "            \n",
    "\n",
    "'''Some Metrics'''\n",
    "min_loss = min(loss)\n",
    "optimal_threshhold = np.around(threshs[loss.index(min_loss)], 2) # optimall threshhold == where loss is minimum \n",
    "acc = 1 - np.array(loss) / (gen+fgd)\n",
    "max_acc = np.around(max(acc), 4)"
   ]
  },
  {
   "cell_type": "code",
   "execution_count": 17,
   "metadata": {},
   "outputs": [
    {
     "data": {
      "image/png": "[encoded data removed]",
      "text/plain": [
       "<Figure size 1440x360 with 3 Axes>"
      ]
     },
     "metadata": {},
     "output_type": "display_data"
    }
   ],
   "source": [
    "plt.figure(figsize=(20,5))\n",
    "plt.suptitle(f'Optimal Threshhold: {optimal_threshhold}')\n",
    "\n",
    "plt.subplot(1,3,1)\n",
    "plt.title(f'Minimum Loss: {min_loss}')\n",
    "plt.plot(threshs,loss)\n",
    "plt.plot(optimal_threshhold, min_loss, 'X', )\n",
    "plt.xlabel('Treshholds')\n",
    "plt.ylabel('Loss')\n",
    "\n",
    "plt.subplot(1,3,2)\n",
    "plt.title(f'Maxmum Accuracy: {max_acc*100}')\n",
    "plt.plot(threshs,acc)\n",
    "plt.plot(optimal_threshhold,max_acc, 'X', )\n",
    "plt.xlabel('Treshholds')\n",
    "plt.ylabel('Accuracy')\n",
    "\n",
    "plt.subplot(1,3,3)\n",
    "plt.title(f'Class Distribution: ({gen+fgd} Total)')\n",
    "plt.bar(f'Genuine: {gen}',gen, label='Genuine')\n",
    "plt.bar(f'Forged: {fgd}',fgd, label='Forged')\n",
    "plt.ylabel('Number of Samples')\n",
    "\n",
    "plt.show()"
   ]
  },
  {
   "cell_type": "markdown",
   "metadata": {},
   "source": [
    "## Final Sample"
   ]
  },
  {
   "cell_type": "code",
   "execution_count": 14,
   "metadata": {},
   "outputs": [],
   "source": [
    "''' predefined sample '''\n",
    "a  = 'NFI-00101001.png'\n",
    "b  = 'NFI-00102001.png'"
   ]
  },
  {
   "cell_type": "code",
   "execution_count": 15,
   "metadata": {},
   "outputs": [
    {
     "data": {
      "image/png": "[encoded data removed]",
      "text/plain": [
       "<Figure size 1440x360 with 2 Axes>"
      ]
     },
     "metadata": {},
     "output_type": "display_data"
    }
   ],
   "source": [
    "# ''' random sample '''\n",
    "# sample = sig_df.sample(2)\n",
    "# a,b = sample.index[0], sample.index[1]\n",
    "\n",
    "'''Comparing'''\n",
    "sim = sims[a][b]['dist']\n",
    "passed = sim>optimal_threshhold\n",
    "a_author, b_author = int(a.strip('.png').strip('.PNG')[3:6]), int(b.strip('.png').strip('.PNG')[3:6])\n",
    "a_class, b_class = int(a.strip('.png').strip('.PNG')[-3:]), int(b.strip('.png').strip('.PNG')[-3:])\n",
    "a_type = 'Genuine' if a_author == a_class else 'Forged'\n",
    "b_type = 'Genuine' if b_author == b_class else 'Forged'\n",
    "\n",
    "'''Ploting'''\n",
    "plt.figure(figsize=(20,5))\n",
    "plt.suptitle(f'{\"Passed\" if passed else \"Not Passed\"}: {np.around(sim*100, 2)}% Similar', color=f'{\"g\" if passed else \"r\"}')\n",
    "plt.subplot(1,2,1)\n",
    "plt.title(f\"{a_type} Class:{a_class}\")\n",
    "plt.imshow(image.load_img(f'{path}/{a}'))\n",
    "plt.subplot(1,2,2)\n",
    "plt.title(f\"{b_type} Class:{b_class}\")\n",
    "plt.imshow(image.load_img(f'{path}/{b}'))\n",
    "plt.show()"
   ]
  },
  {
   "cell_type": "code",
   "execution_count": null,
   "metadata": {},
   "outputs": [],
   "source": []
  }
 ],
 "metadata": {
  "kernelspec": {
   "display_name": "Python 3",
   "language": "python",
   "name": "python3"
  },
  "language_info": {
   "codemirror_mode": {
    "name": "ipython",
    "version": 3
   },
   "file_extension": ".py",
   "mimetype": "text/x-python",
   "name": "python",
   "nbconvert_exporter": "python",
   "pygments_lexer": "ipython3",
   "version": "3.6.5"
  }
 },
 "nbformat": 4,
 "nbformat_minor": 2
}
